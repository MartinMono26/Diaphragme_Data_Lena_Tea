{
 "cells": [
  {
   "cell_type": "markdown",
   "metadata": {},
   "source": [
    "# Imports de modules"
   ]
  },
  {
   "cell_type": "code",
   "execution_count": 30,
   "metadata": {},
   "outputs": [],
   "source": [
    "from scipy import stats\n",
    "import pandas as pd\n",
    "import seaborn as sns\n",
    "import matplotlib.pyplot as plt\n",
    "%matplotlib inline"
   ]
  },
  {
   "cell_type": "code",
   "execution_count": 31,
   "metadata": {},
   "outputs": [],
   "source": [
    "# scipy.stats.wilcoxon(x, y=None, zero_method='wilcox', correction=False)"
   ]
  },
  {
   "cell_type": "code",
   "execution_count": 32,
   "metadata": {},
   "outputs": [],
   "source": [
    "# scipy.stats.mannwhitneyu(x, y, use_continuity=True, alternative=None)"
   ]
  },
  {
   "cell_type": "markdown",
   "metadata": {},
   "source": [
    "# Liste des mesures (quantitatives et qualitatives)"
   ]
  },
  {
   "cell_type": "code",
   "execution_count": 33,
   "metadata": {},
   "outputs": [],
   "source": [
    "m_quanti = [\n",
    "#  'Toni_diaph',\n",
    " 'Toni_diaph_G',\n",
    " 'Toni_diaph_D',\n",
    " 'Toni_diaph_Ec',\n",
    " 'Endu_exten',\n",
    " 'Endu_flech',\n",
    " 'Bernem',\n",
    " 'Incli_D',\n",
    " 'Incli_G',\n",
    " 'Rota_D',\n",
    " 'Rota_G',\n",
    " 'Flexi',\n",
    " 'Exten']\n",
    "m_quali = [\n",
    " 'Type_respi',\n",
    " 'Type_diaph',\n",
    "]"
   ]
  },
  {
   "cell_type": "markdown",
   "metadata": {},
   "source": [
    "# Acquisition et mise en forme des données"
   ]
  },
  {
   "cell_type": "code",
   "execution_count": 34,
   "metadata": {},
   "outputs": [
    {
     "name": "stdout",
     "output_type": "stream",
     "text": [
      "  Patient Groupe  EVA_Pr  EVA_Mi  EVA_Po1  EVA_Po2  age  Taille  Poids  \\\n",
      "0      FL     KT       5       3        0        1   22     159   50.0   \n",
      "1      BL     KT       5       2        0        0   21     168   62.0   \n",
      "\n",
      "         BMI  ... Rota_G_Po2 Rota_D_Po2 Flexi_Pr Flexi_Mi Flexi_Po1 Flexi_Po2  \\\n",
      "0  19.777699  ...         82         81       77       78        82        79   \n",
      "1  21.967120  ...         94         90       63       98        80        88   \n",
      "\n",
      "  Exten_Pr Exten_Mi  Exten_Po1  Exten_Po2  \n",
      "0       68       70         70         71  \n",
      "1       47       57         65         69  \n",
      "\n",
      "[2 rows x 74 columns]\n",
      "Index(['Patient', 'Groupe', 'EVA_Pr', 'EVA_Mi', 'EVA_Po1', 'EVA_Po2', 'age',\n",
      "       'Taille', 'Poids', 'BMI', 'Type_respi_Pr', 'Type_respi_Mi',\n",
      "       'Type_respi_Po1', 'Type_respi_Po2', 'Type_diaph_Pr', 'Type_diaph_Mi',\n",
      "       'Type_diaph_Po1', 'Type_diaph_Po2', 'Toni_diaph_max_Pr',\n",
      "       'Toni_diaph_max_Mi', 'Toni_diaph_max_Po1', 'Toni_diaph_max_Po2',\n",
      "       'Toni_diaph_init_Pr', 'Toni_diaph_init_Mi', 'Toni_diaph_init_Po1',\n",
      "       'Toni_diaph_init_Po2', 'Toni_diaph_G_Pr', 'Toni_diaph_G_Mi',\n",
      "       'Toni_diaph_G_Po1', 'Toni_diaph_G_Po2', 'Toni_diaph_D_Pr',\n",
      "       'Toni_diaph_D_Mi', 'Toni_diaph_D_Po1', 'Toni_diaph_D_Po2',\n",
      "       'Toni_diaph_Ec_Pr', 'Toni_diaph_Ec_Mi', 'Toni_diaph_Ec_Po1',\n",
      "       'Toni_diaph_Ec_Po2', 'Endu_exten_Pr', 'Endu_exten_Mi', 'Endu_exten_Po1',\n",
      "       'Endu_exten_Po2', 'Endu_flech_Pr', 'Endu_flech_Mi', 'Endu_flech_Po1',\n",
      "       'Endu_flech_Po2', 'Bernem_Pr', 'Bernem_Mi', 'Bernem_Po1', 'Bernem_Po2',\n",
      "       'Incli_G_Pr', 'Incli_D_Pr', 'Incli_G_Mi', 'Incli_D_Mi', 'Incli_G_Po1',\n",
      "       'Incli_D_Po1', 'Incli_G_Po2', 'Incli_D_Po2', 'Rota_G_Pr', 'Rota_D_Pr',\n",
      "       'Rota_G_Mi', 'Rota_D_Mi', 'Rota_G_Po1', 'Rota_D_Po1', 'Rota_G_Po2',\n",
      "       'Rota_D_Po2', 'Flexi_Pr', 'Flexi_Mi', 'Flexi_Po1', 'Flexi_Po2',\n",
      "       'Exten_Pr', 'Exten_Mi', 'Exten_Po1', 'Exten_Po2'],\n",
      "      dtype='object')\n"
     ]
    }
   ],
   "source": [
    "df = pd.read_csv('Data_DB_Organized.csv', sep = ';') #, encoding = \"utf8\")\n",
    "# df = pd.read_csv('D0.csv', sep = '\\t') #, encoding = \"utf8\")\n",
    "print(df.head(2))\n",
    "# df.dtypes\n",
    "print(df.columns)"
   ]
  },
  {
   "cell_type": "markdown",
   "metadata": {},
   "source": [
    "# Analyse données brutes"
   ]
  },
  {
   "cell_type": "code",
   "execution_count": 35,
   "metadata": {},
   "outputs": [
    {
     "data": {
      "image/png": "[encoded data removed]",
      "text/plain": [
       "<Figure size 432x288 with 1 Axes>"
      ]
     },
     "metadata": {},
     "output_type": "display_data"
    }
   ],
   "source": [
    "sns.set(style=\"whitegrid\")\n",
    "# tips = sns.load_dataset(\"tips\")\n",
    "val = 'BMI'\n",
    "ax = sns.boxplot(data = df, x = \"Groupe\", y = val)\n",
    "ax = sns.swarmplot(data = df, x = \"Groupe\", y = val)"
   ]
  },
  {
   "cell_type": "markdown",
   "metadata": {},
   "source": [
    "# Test de Mann-Whitney\n",
    "## \"2 échantillons proviennent-ils de la même population ?\""
   ]
  },
  {
   "cell_type": "code",
   "execution_count": 36,
   "metadata": {},
   "outputs": [],
   "source": [
    "#  scipy.stats.mannwhitneyu(x, y, use_continuity=True, alternative=None)"
   ]
  },
  {
   "cell_type": "code",
   "execution_count": 37,
   "metadata": {},
   "outputs": [],
   "source": [
    "df_KT = df[ df['Groupe'] == 'KT']\n",
    "df_NN_KT = df[ df['Groupe'] == 'NN_KT']"
   ]
  },
  {
   "cell_type": "code",
   "execution_count": 38,
   "metadata": {
    "scrolled": true
   },
   "outputs": [
    {
     "data": {
      "text/html": [
       "<div>\n",
       "<style scoped>\n",
       "    .dataframe tbody tr th:only-of-type {\n",
       "        vertical-align: middle;\n",
       "    }\n",
       "\n",
       "    .dataframe tbody tr th {\n",
       "        vertical-align: top;\n",
       "    }\n",
       "\n",
       "    .dataframe thead th {\n",
       "        text-align: right;\n",
       "    }\n",
       "</style>\n",
       "<table border=\"1\" class=\"dataframe\">\n",
       "  <thead>\n",
       "    <tr style=\"text-align: right;\">\n",
       "      <th></th>\n",
       "      <th>U_stat_Pr</th>\n",
       "      <th>pvalue_Pr</th>\n",
       "      <th>U_stat_Po1</th>\n",
       "      <th>pvalue_Po1</th>\n",
       "    </tr>\n",
       "  </thead>\n",
       "  <tbody>\n",
       "    <tr>\n",
       "      <th>Toni_diaph_G</th>\n",
       "      <td>82.0</td>\n",
       "      <td>0.307</td>\n",
       "      <td>62.0</td>\n",
       "      <td>0.060</td>\n",
       "    </tr>\n",
       "    <tr>\n",
       "      <th>Toni_diaph_D</th>\n",
       "      <td>79.0</td>\n",
       "      <td>0.219</td>\n",
       "      <td>61.5</td>\n",
       "      <td>0.046</td>\n",
       "    </tr>\n",
       "    <tr>\n",
       "      <th>Toni_diaph_Ec</th>\n",
       "      <td>69.0</td>\n",
       "      <td>0.085</td>\n",
       "      <td>73.5</td>\n",
       "      <td>0.166</td>\n",
       "    </tr>\n",
       "    <tr>\n",
       "      <th>Endu_exten</th>\n",
       "      <td>74.5</td>\n",
       "      <td>0.219</td>\n",
       "      <td>75.0</td>\n",
       "      <td>0.226</td>\n",
       "    </tr>\n",
       "    <tr>\n",
       "      <th>Endu_flech</th>\n",
       "      <td>68.5</td>\n",
       "      <td>0.142</td>\n",
       "      <td>51.5</td>\n",
       "      <td>0.029</td>\n",
       "    </tr>\n",
       "    <tr>\n",
       "      <th>Bernem</th>\n",
       "      <td>63.5</td>\n",
       "      <td>0.094</td>\n",
       "      <td>45.5</td>\n",
       "      <td>0.014</td>\n",
       "    </tr>\n",
       "    <tr>\n",
       "      <th>Incli_D</th>\n",
       "      <td>71.5</td>\n",
       "      <td>0.177</td>\n",
       "      <td>76.0</td>\n",
       "      <td>0.239</td>\n",
       "    </tr>\n",
       "    <tr>\n",
       "      <th>Incli_G</th>\n",
       "      <td>65.0</td>\n",
       "      <td>0.107</td>\n",
       "      <td>66.0</td>\n",
       "      <td>0.117</td>\n",
       "    </tr>\n",
       "    <tr>\n",
       "      <th>Rota_D</th>\n",
       "      <td>89.0</td>\n",
       "      <td>0.471</td>\n",
       "      <td>82.0</td>\n",
       "      <td>0.339</td>\n",
       "    </tr>\n",
       "    <tr>\n",
       "      <th>Rota_G</th>\n",
       "      <td>77.0</td>\n",
       "      <td>0.256</td>\n",
       "      <td>76.0</td>\n",
       "      <td>0.240</td>\n",
       "    </tr>\n",
       "    <tr>\n",
       "      <th>Flexi</th>\n",
       "      <td>74.0</td>\n",
       "      <td>0.211</td>\n",
       "      <td>85.5</td>\n",
       "      <td>0.404</td>\n",
       "    </tr>\n",
       "    <tr>\n",
       "      <th>Exten</th>\n",
       "      <td>89.0</td>\n",
       "      <td>0.471</td>\n",
       "      <td>88.0</td>\n",
       "      <td>0.452</td>\n",
       "    </tr>\n",
       "  </tbody>\n",
       "</table>\n",
       "</div>"
      ],
      "text/plain": [
       "               U_stat_Pr  pvalue_Pr  U_stat_Po1  pvalue_Po1\n",
       "Toni_diaph_G        82.0      0.307        62.0       0.060\n",
       "Toni_diaph_D        79.0      0.219        61.5       0.046\n",
       "Toni_diaph_Ec       69.0      0.085        73.5       0.166\n",
       "Endu_exten          74.5      0.219        75.0       0.226\n",
       "Endu_flech          68.5      0.142        51.5       0.029\n",
       "Bernem              63.5      0.094        45.5       0.014\n",
       "Incli_D             71.5      0.177        76.0       0.239\n",
       "Incli_G             65.0      0.107        66.0       0.117\n",
       "Rota_D              89.0      0.471        82.0       0.339\n",
       "Rota_G              77.0      0.256        76.0       0.240\n",
       "Flexi               74.0      0.211        85.5       0.404\n",
       "Exten               89.0      0.471        88.0       0.452"
      ]
     },
     "execution_count": 38,
     "metadata": {},
     "output_type": "execute_result"
    }
   ],
   "source": [
    "dic = {}\n",
    "for test in ['_Pr', '_Po1']:\n",
    "    U_stats = []\n",
    "    pvalues = []\n",
    "    for m in m_quanti:\n",
    "        U_stat, pvalue = stats.mannwhitneyu(x = df_KT[m + test], y = df_NN_KT[m + test])#, use_continuity=True, alternative=None)\n",
    "        U_stats.append(U_stat)\n",
    "        pvalues.append(round(pvalue, 3))\n",
    "    dic.update({'U_stat' + test : U_stats, 'pvalue' + test : pvalues})\n",
    "u_df = pd.DataFrame(dic, index = m_quanti)\n",
    "u_df\n",
    "# u_df[['pvalue_Pr', 'pvalue_Po1']]"
   ]
  },
  {
   "cell_type": "markdown",
   "metadata": {},
   "source": [
    "# Test de WilCoxon\n",
    "## \"Une même population a-t-elle évolué ?\""
   ]
  },
  {
   "cell_type": "code",
   "execution_count": 39,
   "metadata": {},
   "outputs": [
    {
     "ename": "NameError",
     "evalue": "name 'x' is not defined",
     "output_type": "error",
     "traceback": [
      "\u001b[1;31m---------------------------------------------------------------------------\u001b[0m",
      "\u001b[1;31mNameError\u001b[0m                                 Traceback (most recent call last)",
      "\u001b[1;32m<ipython-input-39-40c8c4925351>\u001b[0m in \u001b[0;36m<module>\u001b[1;34m\u001b[0m\n\u001b[1;32m----> 1\u001b[1;33m \u001b[0mstats\u001b[0m\u001b[1;33m.\u001b[0m\u001b[0mwilcoxon\u001b[0m\u001b[1;33m(\u001b[0m\u001b[0mx\u001b[0m\u001b[1;33m,\u001b[0m \u001b[0my\u001b[0m \u001b[1;33m=\u001b[0m \u001b[1;32mNone\u001b[0m\u001b[1;33m,\u001b[0m \u001b[0mzero_method\u001b[0m\u001b[1;33m=\u001b[0m\u001b[1;34m'wilcox'\u001b[0m\u001b[1;33m,\u001b[0m \u001b[0mcorrection\u001b[0m\u001b[1;33m=\u001b[0m\u001b[1;32mFalse\u001b[0m\u001b[1;33m)\u001b[0m\u001b[1;33m\u001b[0m\u001b[1;33m\u001b[0m\u001b[0m\n\u001b[0m",
      "\u001b[1;31mNameError\u001b[0m: name 'x' is not defined"
     ]
    }
   ],
   "source": [
    "stats.wilcoxon(x, y = None, zero_method='wilcox', correction=False)"
   ]
  },
  {
   "cell_type": "code",
   "execution_count": 40,
   "metadata": {},
   "outputs": [
    {
     "name": "stdout",
     "output_type": "stream",
     "text": [
      "               T_Mi  pvalue_Mi  T_Po1  pvalue_Po1  T_Po2  pvalue_Po2\n",
      "Toni_diaph_G    2.5      0.317    0.0       0.004    4.0       0.013\n",
      "Toni_diaph_D    0.0      0.083    0.0       0.002    0.0       0.003\n",
      "Toni_diaph_Ec   2.0      0.564   12.0       0.705   12.0       0.705\n",
      "Endu_exten      6.5      0.006    3.0       0.003    2.0       0.002\n",
      "Endu_flech     17.5      0.050    5.0       0.005    5.0       0.005\n",
      "Bernem          0.0      0.001    0.0       0.001    0.0       0.001\n",
      "Incli_D        19.5      0.068    4.5       0.011    7.5       0.008\n",
      "Incli_G        34.0      0.419   25.0       0.151   17.5       0.050\n",
      "Rota_D         17.0      0.046    9.0       0.011    6.0       0.006\n",
      "Rota_G          8.5      0.010    4.5       0.007    6.0       0.009\n",
      "Flexi          34.0      0.419   17.5       0.090   27.5       0.208\n",
      "Exten          28.5      0.235   20.5       0.080   23.0       0.115\n",
      "               T_Mi  pvalue_Mi  T_Po1  pvalue_Po1  T_Po2  pvalue_Po2\n",
      "Toni_diaph_G    0.0      0.025    0.0       0.006    0.0       0.006\n",
      "Toni_diaph_D    0.0        NaN    0.0       0.002    0.0       0.004\n",
      "Toni_diaph_Ec   0.0      0.025   10.0       0.096    3.0       0.180\n",
      "Endu_exten     22.0      0.055   15.0       0.019   15.0       0.019\n",
      "Endu_flech     30.0      0.157   13.5       0.014   17.5       0.028\n",
      "Bernem          0.0      0.001    1.0       0.001    3.0       0.002\n",
      "Incli_D        17.0      0.026   12.5       0.021    9.5       0.020\n",
      "Incli_G        17.5      0.050   14.0       0.016   21.5       0.051\n",
      "Rota_D         36.5      0.314   26.0       0.096   30.0       0.158\n",
      "Rota_G         33.5      0.232   23.5       0.068   29.0       0.140\n",
      "Flexi          15.0      0.018   10.0       0.008   15.5       0.020\n",
      "Exten          40.0      0.432   33.0       0.380   30.5       0.294\n"
     ]
    },
    {
     "name": "stderr",
     "output_type": "stream",
     "text": [
      "C:\\Users\\marti\\Anaconda3\\lib\\site-packages\\scipy\\stats\\morestats.py:2778: UserWarning: Warning: sample size too small for normal approximation.\n",
      "  warnings.warn(\"Warning: sample size too small for normal approximation.\")\n",
      "C:\\Users\\marti\\Anaconda3\\lib\\site-packages\\scipy\\stats\\morestats.py:2778: UserWarning: Warning: sample size too small for normal approximation.\n",
      "  warnings.warn(\"Warning: sample size too small for normal approximation.\")\n",
      "C:\\Users\\marti\\Anaconda3\\lib\\site-packages\\scipy\\stats\\morestats.py:2778: UserWarning: Warning: sample size too small for normal approximation.\n",
      "  warnings.warn(\"Warning: sample size too small for normal approximation.\")\n",
      "C:\\Users\\marti\\Anaconda3\\lib\\site-packages\\scipy\\stats\\morestats.py:2778: UserWarning: Warning: sample size too small for normal approximation.\n",
      "  warnings.warn(\"Warning: sample size too small for normal approximation.\")\n",
      "C:\\Users\\marti\\Anaconda3\\lib\\site-packages\\scipy\\stats\\morestats.py:2778: UserWarning: Warning: sample size too small for normal approximation.\n",
      "  warnings.warn(\"Warning: sample size too small for normal approximation.\")\n",
      "C:\\Users\\marti\\Anaconda3\\lib\\site-packages\\scipy\\stats\\morestats.py:2778: UserWarning: Warning: sample size too small for normal approximation.\n",
      "  warnings.warn(\"Warning: sample size too small for normal approximation.\")\n",
      "C:\\Users\\marti\\Anaconda3\\lib\\site-packages\\scipy\\stats\\morestats.py:2778: UserWarning: Warning: sample size too small for normal approximation.\n",
      "  warnings.warn(\"Warning: sample size too small for normal approximation.\")\n",
      "C:\\Users\\marti\\Anaconda3\\lib\\site-packages\\scipy\\stats\\morestats.py:2803: RuntimeWarning: invalid value encountered in double_scalars\n",
      "  z = (T - mn - correction) / se\n",
      "C:\\Users\\marti\\Anaconda3\\lib\\site-packages\\scipy\\stats\\_distn_infrastructure.py:877: RuntimeWarning: invalid value encountered in greater\n",
      "  return (self.a < x) & (x < self.b)\n",
      "C:\\Users\\marti\\Anaconda3\\lib\\site-packages\\scipy\\stats\\_distn_infrastructure.py:877: RuntimeWarning: invalid value encountered in less\n",
      "  return (self.a < x) & (x < self.b)\n",
      "C:\\Users\\marti\\Anaconda3\\lib\\site-packages\\scipy\\stats\\_distn_infrastructure.py:1831: RuntimeWarning: invalid value encountered in less_equal\n",
      "  cond2 = cond0 & (x <= self.a)\n",
      "C:\\Users\\marti\\Anaconda3\\lib\\site-packages\\scipy\\stats\\morestats.py:2778: UserWarning: Warning: sample size too small for normal approximation.\n",
      "  warnings.warn(\"Warning: sample size too small for normal approximation.\")\n",
      "C:\\Users\\marti\\Anaconda3\\lib\\site-packages\\scipy\\stats\\morestats.py:2778: UserWarning: Warning: sample size too small for normal approximation.\n",
      "  warnings.warn(\"Warning: sample size too small for normal approximation.\")\n",
      "C:\\Users\\marti\\Anaconda3\\lib\\site-packages\\scipy\\stats\\morestats.py:2778: UserWarning: Warning: sample size too small for normal approximation.\n",
      "  warnings.warn(\"Warning: sample size too small for normal approximation.\")\n",
      "C:\\Users\\marti\\Anaconda3\\lib\\site-packages\\scipy\\stats\\morestats.py:2778: UserWarning: Warning: sample size too small for normal approximation.\n",
      "  warnings.warn(\"Warning: sample size too small for normal approximation.\")\n",
      "C:\\Users\\marti\\Anaconda3\\lib\\site-packages\\scipy\\stats\\morestats.py:2778: UserWarning: Warning: sample size too small for normal approximation.\n",
      "  warnings.warn(\"Warning: sample size too small for normal approximation.\")\n"
     ]
    }
   ],
   "source": [
    "dic = {}\n",
    "for groupe in ['KT', 'NN_KT']:\n",
    "    df_gr = df[ df['Groupe'] == groupe]\n",
    "\n",
    "    for test in ['_Mi', '_Po1', '_Po2']:\n",
    "        Ts = []\n",
    "        pvalues = []\n",
    "        for m in m_quanti:\n",
    "    #         U_stat, pvalue = stats.mannwhitneyu(x = df_KT[m + test], y = df_NN_KT[m + test])#, use_continuity=True, alternative=None)\n",
    "            T, pvalue = stats.wilcoxon(x = df_gr[m + test], y = df_gr[m + '_Pr']) # zero_method='wilcox', correction=False)\n",
    "            Ts.append(T)\n",
    "            pvalues.append(round(pvalue, 3))\n",
    "        dic.update({'T' + test : Ts, 'pvalue' + test : pvalues})\n",
    "    u_df = pd.DataFrame(dic, index = m_quanti)\n",
    "    print(u_df)\n",
    "    # u_df[['pvalue_Pr', 'pvalue_Po1']]"
   ]
  },
  {
   "cell_type": "code",
   "execution_count": 41,
   "metadata": {},
   "outputs": [],
   "source": [
    "# df['diff'] = df['R1_0'] - df['R1_1']"
   ]
  },
  {
   "cell_type": "code",
   "execution_count": 42,
   "metadata": {},
   "outputs": [],
   "source": [
    "# stats.wilcoxon(x = df['diff'], zero_method='wilcox', correction=False)"
   ]
  },
  {
   "cell_type": "code",
   "execution_count": 43,
   "metadata": {},
   "outputs": [
    {
     "ename": "SyntaxError",
     "evalue": "invalid syntax (<ipython-input-43-a54614e9dfe9>, line 1)",
     "output_type": "error",
     "traceback": [
      "\u001b[1;36m  File \u001b[1;32m\"<ipython-input-43-a54614e9dfe9>\"\u001b[1;36m, line \u001b[1;32m1\u001b[0m\n\u001b[1;33m    https://pythonfordatascience.org/wilcoxon-sign-ranked-test-python/\u001b[0m\n\u001b[1;37m           ^\u001b[0m\n\u001b[1;31mSyntaxError\u001b[0m\u001b[1;31m:\u001b[0m invalid syntax\n"
     ]
    }
   ],
   "source": [
    "https://pythonfordatascience.org/wilcoxon-sign-ranked-test-python/"
   ]
  },
  {
   "cell_type": "markdown",
   "metadata": {},
   "source": [
    "# Evolutions des mesures\n",
    "## \"Comment évoluent les grandeurs mesurées au cours des tests ?\"\""
   ]
  },
  {
   "cell_type": "code",
   "execution_count": 44,
   "metadata": {},
   "outputs": [
    {
     "data": {
      "text/html": [
       "<div>\n",
       "<style scoped>\n",
       "    .dataframe tbody tr th:only-of-type {\n",
       "        vertical-align: middle;\n",
       "    }\n",
       "\n",
       "    .dataframe tbody tr th {\n",
       "        vertical-align: top;\n",
       "    }\n",
       "\n",
       "    .dataframe thead th {\n",
       "        text-align: right;\n",
       "    }\n",
       "</style>\n",
       "<table border=\"1\" class=\"dataframe\">\n",
       "  <thead>\n",
       "    <tr style=\"text-align: right;\">\n",
       "      <th></th>\n",
       "      <th>Patient</th>\n",
       "      <th>Groupe</th>\n",
       "      <th>EVA_Pr</th>\n",
       "      <th>EVA_Mi</th>\n",
       "      <th>EVA_Po1</th>\n",
       "      <th>EVA_Po2</th>\n",
       "      <th>age</th>\n",
       "      <th>Taille</th>\n",
       "      <th>Poids</th>\n",
       "      <th>BMI</th>\n",
       "      <th>...</th>\n",
       "      <th>Rota_G_Po2</th>\n",
       "      <th>Rota_D_Po2</th>\n",
       "      <th>Flexi_Pr</th>\n",
       "      <th>Flexi_Mi</th>\n",
       "      <th>Flexi_Po1</th>\n",
       "      <th>Flexi_Po2</th>\n",
       "      <th>Exten_Pr</th>\n",
       "      <th>Exten_Mi</th>\n",
       "      <th>Exten_Po1</th>\n",
       "      <th>Exten_Po2</th>\n",
       "    </tr>\n",
       "  </thead>\n",
       "  <tbody>\n",
       "    <tr>\n",
       "      <th>0</th>\n",
       "      <td>FL</td>\n",
       "      <td>KT</td>\n",
       "      <td>5</td>\n",
       "      <td>3</td>\n",
       "      <td>0</td>\n",
       "      <td>1</td>\n",
       "      <td>22</td>\n",
       "      <td>159</td>\n",
       "      <td>50.0</td>\n",
       "      <td>19.777699</td>\n",
       "      <td>...</td>\n",
       "      <td>82</td>\n",
       "      <td>81</td>\n",
       "      <td>77</td>\n",
       "      <td>78</td>\n",
       "      <td>82</td>\n",
       "      <td>79</td>\n",
       "      <td>68</td>\n",
       "      <td>70</td>\n",
       "      <td>70</td>\n",
       "      <td>71</td>\n",
       "    </tr>\n",
       "    <tr>\n",
       "      <th>1</th>\n",
       "      <td>BL</td>\n",
       "      <td>KT</td>\n",
       "      <td>5</td>\n",
       "      <td>2</td>\n",
       "      <td>0</td>\n",
       "      <td>0</td>\n",
       "      <td>21</td>\n",
       "      <td>168</td>\n",
       "      <td>62.0</td>\n",
       "      <td>21.967120</td>\n",
       "      <td>...</td>\n",
       "      <td>94</td>\n",
       "      <td>90</td>\n",
       "      <td>63</td>\n",
       "      <td>98</td>\n",
       "      <td>80</td>\n",
       "      <td>88</td>\n",
       "      <td>47</td>\n",
       "      <td>57</td>\n",
       "      <td>65</td>\n",
       "      <td>69</td>\n",
       "    </tr>\n",
       "    <tr>\n",
       "      <th>2</th>\n",
       "      <td>BN</td>\n",
       "      <td>KT</td>\n",
       "      <td>3</td>\n",
       "      <td>3</td>\n",
       "      <td>1</td>\n",
       "      <td>1</td>\n",
       "      <td>22</td>\n",
       "      <td>173</td>\n",
       "      <td>60.0</td>\n",
       "      <td>20.047446</td>\n",
       "      <td>...</td>\n",
       "      <td>89</td>\n",
       "      <td>91</td>\n",
       "      <td>70</td>\n",
       "      <td>59</td>\n",
       "      <td>65</td>\n",
       "      <td>69</td>\n",
       "      <td>85</td>\n",
       "      <td>80</td>\n",
       "      <td>81</td>\n",
       "      <td>82</td>\n",
       "    </tr>\n",
       "    <tr>\n",
       "      <th>3</th>\n",
       "      <td>GC</td>\n",
       "      <td>KT</td>\n",
       "      <td>4</td>\n",
       "      <td>2</td>\n",
       "      <td>1</td>\n",
       "      <td>0</td>\n",
       "      <td>24</td>\n",
       "      <td>174</td>\n",
       "      <td>64.0</td>\n",
       "      <td>21.138856</td>\n",
       "      <td>...</td>\n",
       "      <td>91</td>\n",
       "      <td>93</td>\n",
       "      <td>83</td>\n",
       "      <td>85</td>\n",
       "      <td>86</td>\n",
       "      <td>78</td>\n",
       "      <td>68</td>\n",
       "      <td>69</td>\n",
       "      <td>70</td>\n",
       "      <td>71</td>\n",
       "    </tr>\n",
       "    <tr>\n",
       "      <th>4</th>\n",
       "      <td>DA</td>\n",
       "      <td>KT</td>\n",
       "      <td>8</td>\n",
       "      <td>5</td>\n",
       "      <td>3</td>\n",
       "      <td>3</td>\n",
       "      <td>25</td>\n",
       "      <td>165</td>\n",
       "      <td>60.0</td>\n",
       "      <td>22.038567</td>\n",
       "      <td>...</td>\n",
       "      <td>78</td>\n",
       "      <td>80</td>\n",
       "      <td>53</td>\n",
       "      <td>42</td>\n",
       "      <td>47</td>\n",
       "      <td>51</td>\n",
       "      <td>52</td>\n",
       "      <td>44</td>\n",
       "      <td>66</td>\n",
       "      <td>69</td>\n",
       "    </tr>\n",
       "  </tbody>\n",
       "</table>\n",
       "<p>5 rows × 74 columns</p>\n",
       "</div>"
      ],
      "text/plain": [
       "  Patient Groupe  EVA_Pr  EVA_Mi  EVA_Po1  EVA_Po2  age  Taille  Poids  \\\n",
       "0      FL     KT       5       3        0        1   22     159   50.0   \n",
       "1      BL     KT       5       2        0        0   21     168   62.0   \n",
       "2      BN     KT       3       3        1        1   22     173   60.0   \n",
       "3      GC     KT       4       2        1        0   24     174   64.0   \n",
       "4      DA     KT       8       5        3        3   25     165   60.0   \n",
       "\n",
       "         BMI  ... Rota_G_Po2 Rota_D_Po2 Flexi_Pr Flexi_Mi Flexi_Po1 Flexi_Po2  \\\n",
       "0  19.777699  ...         82         81       77       78        82        79   \n",
       "1  21.967120  ...         94         90       63       98        80        88   \n",
       "2  20.047446  ...         89         91       70       59        65        69   \n",
       "3  21.138856  ...         91         93       83       85        86        78   \n",
       "4  22.038567  ...         78         80       53       42        47        51   \n",
       "\n",
       "  Exten_Pr Exten_Mi  Exten_Po1  Exten_Po2  \n",
       "0       68       70         70         71  \n",
       "1       47       57         65         69  \n",
       "2       85       80         81         82  \n",
       "3       68       69         70         71  \n",
       "4       52       44         66         69  \n",
       "\n",
       "[5 rows x 74 columns]"
      ]
     },
     "execution_count": 44,
     "metadata": {},
     "output_type": "execute_result"
    }
   ],
   "source": [
    "df.head()"
   ]
  },
  {
   "cell_type": "code",
   "execution_count": 87,
   "metadata": {},
   "outputs": [],
   "source": [
    "tests = ['Pr', 'Mi', 'Po1', 'Po2']"
   ]
  },
  {
   "cell_type": "code",
   "execution_count": 131,
   "metadata": {
    "scrolled": false
   },
   "outputs": [
    {
     "data": {
      "image/png": "[encoded data removed]",
      "text/plain": [
       "<Figure size 1152x432 with 2 Axes>"
      ]
     },
     "metadata": {},
     "output_type": "display_data"
    },
    {
     "data": {
      "image/png": "[encoded data removed]",
      "text/plain": [
       "<Figure size 1152x432 with 2 Axes>"
      ]
     },
     "metadata": {},
     "output_type": "display_data"
    }
   ],
   "source": [
    "import numpy as np\n",
    "\n",
    "vars_plot_list = m_quanti[:]\n",
    "vars_plot_list = m_quali[:]\n",
    "\n",
    "vars_plot_list = m_quanti + \n",
    "\n",
    "Quali_Vars_Infos_dic = {}\n",
    "Quali_Vars_Infos_dic['Type_respi'] = ['Abdominale', 'Thoracique', 'Thoraco-abdo']\n",
    "Quali_Vars_Infos_dic['Type_diaph'] = ['Surprogramme', 'Deprogramme', 'Normoprogramme']\n",
    "colors = ['#b5ffb9', '#f9bc86', '#a3acff']\n",
    "\n",
    "for m in vars_plot_list:\n",
    "\n",
    "    dic_m = {m : [], 'tests' : [], 'groups' : []}\n",
    "    for test in tests: #Pour chacun des tests\n",
    "        for i, serie in df.iterrows(): #Pour chaque ligne du dataframe\n",
    "            dic_m[m].append(serie[m + '_' + test]) # Ajout de la valeur de la variable a la liste m du dic\n",
    "            dic_m['tests'].append(test) # Ajout de la designation du test a la liste 'tests' du dic\n",
    "            dic_m['groups'].append(serie['Groupe']) # Ajout de la designation du groupe a la liste 'groups' du dic\n",
    "\n",
    "    df_m = pd.DataFrame(dic_m) # Creation du dataframe a partir du dictionnaire cree pour la variable m\n",
    "    \n",
    "#     print(df_m)\n",
    "\n",
    "    plt.figure(figsize=(16, 6))\n",
    "\n",
    "    if m in m_quanti:\n",
    "        \n",
    "        ax = sns.boxplot(data = df_m, x = \"groups\", y = m, hue = \"tests\")\n",
    "        ax = sns.swarmplot(data = df_m, x = \"groups\", y = m, hue = \"tests\", \\\n",
    "                           dodge=True, size=10, edgecolor='gray', linewidth  = 1)\n",
    "    \n",
    "    if m in m_quali:\n",
    "        \n",
    "#         print('____________', m)\n",
    "#         df_m['ones'] = [1 for i in range(df_m.shape[0])] # Just to have one more colums\n",
    "#         print(df_m)\n",
    "        vals = Quali_Vars_Infos_dic[m]\n",
    "\n",
    "        for i, group in {1:'KT', 2:'NN_KT'}.items(): # For each group\n",
    "#             print('i', i, 'group', group)\n",
    "            plt.subplot(1, 2, i)\n",
    "            plt.title(group)\n",
    "#             plt.set_axis_labels(vals)\n",
    "\n",
    "            bottom = [0 for i in tests]\n",
    "            height = [0 for i in tests]\n",
    "            for i_v, val in enumerate(vals): # For each value that m can take\n",
    "#                 print('\\n\\nval', val)\n",
    "                bottom = list(np.array(bottom) + np.array(height))\n",
    "                height = []\n",
    "                for test in tests: # For each test\n",
    "#                     print('\\ntest', test)\n",
    "#                     print('group', group, 'test', test, 'm', m)\n",
    "                    df_isol = df_m[(df_m['groups'] == group) & (df_m['tests'] == test) & (df_m[m] == val)]\n",
    "#                     print(df_isol)\n",
    "                    height.append(df_isol.shape[0])\n",
    "                    \n",
    "#                 print('bottom', bottom, 'height', height)\n",
    "                    \n",
    "                plt.bar(x = tests, height = height, bottom = bottom, color=colors[i_v], label=val)\n",
    "#                 plt.show()\n",
    "        plt.legend()\n",
    "        plt.suptitle(m, size=16)\n",
    "        plt.show()"
   ]
  },
  {
   "cell_type": "code",
   "execution_count": null,
   "metadata": {},
   "outputs": [],
   "source": [
    "#         Pour les quali:\n",
    "#             g = sns.catplot(x=\"tests\", hue=m, col=\"groups\", \\\n",
    "#                       data=df_m, kind=\"count\", \\\n",
    "#                       height=7, aspect=.7);\n",
    "\n",
    "#             g.set_axis_labels(\"\", m)\n",
    "#             g.set_xticklabels(tests)\n",
    "#             g.set_titles(\"{col_name}\")"
   ]
  },
  {
   "cell_type": "code",
   "execution_count": 89,
   "metadata": {},
   "outputs": [
    {
     "name": "stdout",
     "output_type": "stream",
     "text": [
      "i 1 group KT\n"
     ]
    },
    {
     "ename": "KeyError",
     "evalue": "'groups'",
     "output_type": "error",
     "traceback": [
      "\u001b[1;31m---------------------------------------------------------------------------\u001b[0m",
      "\u001b[1;31mKeyError\u001b[0m                                  Traceback (most recent call last)",
      "\u001b[1;32m~\\Anaconda3\\lib\\site-packages\\pandas\\core\\indexes\\base.py\u001b[0m in \u001b[0;36mget_loc\u001b[1;34m(self, key, method, tolerance)\u001b[0m\n\u001b[0;32m   2656\u001b[0m             \u001b[1;32mtry\u001b[0m\u001b[1;33m:\u001b[0m\u001b[1;33m\u001b[0m\u001b[1;33m\u001b[0m\u001b[0m\n\u001b[1;32m-> 2657\u001b[1;33m                 \u001b[1;32mreturn\u001b[0m \u001b[0mself\u001b[0m\u001b[1;33m.\u001b[0m\u001b[0m_engine\u001b[0m\u001b[1;33m.\u001b[0m\u001b[0mget_loc\u001b[0m\u001b[1;33m(\u001b[0m\u001b[0mkey\u001b[0m\u001b[1;33m)\u001b[0m\u001b[1;33m\u001b[0m\u001b[1;33m\u001b[0m\u001b[0m\n\u001b[0m\u001b[0;32m   2658\u001b[0m             \u001b[1;32mexcept\u001b[0m \u001b[0mKeyError\u001b[0m\u001b[1;33m:\u001b[0m\u001b[1;33m\u001b[0m\u001b[1;33m\u001b[0m\u001b[0m\n",
      "\u001b[1;32mpandas/_libs/index.pyx\u001b[0m in \u001b[0;36mpandas._libs.index.IndexEngine.get_loc\u001b[1;34m()\u001b[0m\n",
      "\u001b[1;32mpandas/_libs/index.pyx\u001b[0m in \u001b[0;36mpandas._libs.index.IndexEngine.get_loc\u001b[1;34m()\u001b[0m\n",
      "\u001b[1;32mpandas/_libs/hashtable_class_helper.pxi\u001b[0m in \u001b[0;36mpandas._libs.hashtable.PyObjectHashTable.get_item\u001b[1;34m()\u001b[0m\n",
      "\u001b[1;32mpandas/_libs/hashtable_class_helper.pxi\u001b[0m in \u001b[0;36mpandas._libs.hashtable.PyObjectHashTable.get_item\u001b[1;34m()\u001b[0m\n",
      "\u001b[1;31mKeyError\u001b[0m: 'groups'",
      "\nDuring handling of the above exception, another exception occurred:\n",
      "\u001b[1;31mKeyError\u001b[0m                                  Traceback (most recent call last)",
      "\u001b[1;32m<ipython-input-89-8ae6e4ddad4a>\u001b[0m in \u001b[0;36m<module>\u001b[1;34m\u001b[0m\n\u001b[0;32m     17\u001b[0m             \u001b[0mheight\u001b[0m \u001b[1;33m=\u001b[0m \u001b[1;33m[\u001b[0m\u001b[1;33m]\u001b[0m\u001b[1;33m\u001b[0m\u001b[1;33m\u001b[0m\u001b[0m\n\u001b[0;32m     18\u001b[0m             \u001b[1;32mfor\u001b[0m \u001b[0mtest\u001b[0m \u001b[1;32min\u001b[0m \u001b[0mtests\u001b[0m\u001b[1;33m:\u001b[0m \u001b[1;31m# For each test\u001b[0m\u001b[1;33m\u001b[0m\u001b[1;33m\u001b[0m\u001b[0m\n\u001b[1;32m---> 19\u001b[1;33m                 \u001b[0mdf_isol\u001b[0m \u001b[1;33m=\u001b[0m \u001b[0mdf\u001b[0m\u001b[1;33m[\u001b[0m\u001b[1;33m(\u001b[0m\u001b[0mdf\u001b[0m\u001b[1;33m[\u001b[0m\u001b[1;34m'groups'\u001b[0m\u001b[1;33m]\u001b[0m \u001b[1;33m==\u001b[0m \u001b[0mgroup\u001b[0m\u001b[1;33m)\u001b[0m \u001b[1;33m&\u001b[0m \u001b[1;33m(\u001b[0m\u001b[0mdf\u001b[0m\u001b[1;33m[\u001b[0m\u001b[1;34m'tests'\u001b[0m\u001b[1;33m]\u001b[0m \u001b[1;33m==\u001b[0m \u001b[0mtest\u001b[0m\u001b[1;33m)\u001b[0m \u001b[1;33m&\u001b[0m \u001b[1;33m(\u001b[0m\u001b[0mdf\u001b[0m\u001b[1;33m[\u001b[0m\u001b[0mm\u001b[0m\u001b[1;33m]\u001b[0m \u001b[1;33m==\u001b[0m \u001b[0mgroup\u001b[0m\u001b[1;33m)\u001b[0m\u001b[1;33m]\u001b[0m\u001b[1;33m\u001b[0m\u001b[1;33m\u001b[0m\u001b[0m\n\u001b[0m\u001b[0;32m     20\u001b[0m                 \u001b[0mheight\u001b[0m\u001b[1;33m.\u001b[0m\u001b[0mappend\u001b[0m\u001b[1;33m(\u001b[0m\u001b[0mdf_isol\u001b[0m\u001b[1;33m.\u001b[0m\u001b[0mshape\u001b[0m\u001b[1;33m[\u001b[0m\u001b[1;36m0\u001b[0m\u001b[1;33m]\u001b[0m\u001b[1;33m)\u001b[0m\u001b[1;33m\u001b[0m\u001b[1;33m\u001b[0m\u001b[0m\n\u001b[0;32m     21\u001b[0m \u001b[1;33m\u001b[0m\u001b[0m\n",
      "\u001b[1;32m~\\Anaconda3\\lib\\site-packages\\pandas\\core\\frame.py\u001b[0m in \u001b[0;36m__getitem__\u001b[1;34m(self, key)\u001b[0m\n\u001b[0;32m   2925\u001b[0m             \u001b[1;32mif\u001b[0m \u001b[0mself\u001b[0m\u001b[1;33m.\u001b[0m\u001b[0mcolumns\u001b[0m\u001b[1;33m.\u001b[0m\u001b[0mnlevels\u001b[0m \u001b[1;33m>\u001b[0m \u001b[1;36m1\u001b[0m\u001b[1;33m:\u001b[0m\u001b[1;33m\u001b[0m\u001b[1;33m\u001b[0m\u001b[0m\n\u001b[0;32m   2926\u001b[0m                 \u001b[1;32mreturn\u001b[0m \u001b[0mself\u001b[0m\u001b[1;33m.\u001b[0m\u001b[0m_getitem_multilevel\u001b[0m\u001b[1;33m(\u001b[0m\u001b[0mkey\u001b[0m\u001b[1;33m)\u001b[0m\u001b[1;33m\u001b[0m\u001b[1;33m\u001b[0m\u001b[0m\n\u001b[1;32m-> 2927\u001b[1;33m             \u001b[0mindexer\u001b[0m \u001b[1;33m=\u001b[0m \u001b[0mself\u001b[0m\u001b[1;33m.\u001b[0m\u001b[0mcolumns\u001b[0m\u001b[1;33m.\u001b[0m\u001b[0mget_loc\u001b[0m\u001b[1;33m(\u001b[0m\u001b[0mkey\u001b[0m\u001b[1;33m)\u001b[0m\u001b[1;33m\u001b[0m\u001b[1;33m\u001b[0m\u001b[0m\n\u001b[0m\u001b[0;32m   2928\u001b[0m             \u001b[1;32mif\u001b[0m \u001b[0mis_integer\u001b[0m\u001b[1;33m(\u001b[0m\u001b[0mindexer\u001b[0m\u001b[1;33m)\u001b[0m\u001b[1;33m:\u001b[0m\u001b[1;33m\u001b[0m\u001b[1;33m\u001b[0m\u001b[0m\n\u001b[0;32m   2929\u001b[0m                 \u001b[0mindexer\u001b[0m \u001b[1;33m=\u001b[0m \u001b[1;33m[\u001b[0m\u001b[0mindexer\u001b[0m\u001b[1;33m]\u001b[0m\u001b[1;33m\u001b[0m\u001b[1;33m\u001b[0m\u001b[0m\n",
      "\u001b[1;32m~\\Anaconda3\\lib\\site-packages\\pandas\\core\\indexes\\base.py\u001b[0m in \u001b[0;36mget_loc\u001b[1;34m(self, key, method, tolerance)\u001b[0m\n\u001b[0;32m   2657\u001b[0m                 \u001b[1;32mreturn\u001b[0m \u001b[0mself\u001b[0m\u001b[1;33m.\u001b[0m\u001b[0m_engine\u001b[0m\u001b[1;33m.\u001b[0m\u001b[0mget_loc\u001b[0m\u001b[1;33m(\u001b[0m\u001b[0mkey\u001b[0m\u001b[1;33m)\u001b[0m\u001b[1;33m\u001b[0m\u001b[1;33m\u001b[0m\u001b[0m\n\u001b[0;32m   2658\u001b[0m             \u001b[1;32mexcept\u001b[0m \u001b[0mKeyError\u001b[0m\u001b[1;33m:\u001b[0m\u001b[1;33m\u001b[0m\u001b[1;33m\u001b[0m\u001b[0m\n\u001b[1;32m-> 2659\u001b[1;33m                 \u001b[1;32mreturn\u001b[0m \u001b[0mself\u001b[0m\u001b[1;33m.\u001b[0m\u001b[0m_engine\u001b[0m\u001b[1;33m.\u001b[0m\u001b[0mget_loc\u001b[0m\u001b[1;33m(\u001b[0m\u001b[0mself\u001b[0m\u001b[1;33m.\u001b[0m\u001b[0m_maybe_cast_indexer\u001b[0m\u001b[1;33m(\u001b[0m\u001b[0mkey\u001b[0m\u001b[1;33m)\u001b[0m\u001b[1;33m)\u001b[0m\u001b[1;33m\u001b[0m\u001b[1;33m\u001b[0m\u001b[0m\n\u001b[0m\u001b[0;32m   2660\u001b[0m         \u001b[0mindexer\u001b[0m \u001b[1;33m=\u001b[0m \u001b[0mself\u001b[0m\u001b[1;33m.\u001b[0m\u001b[0mget_indexer\u001b[0m\u001b[1;33m(\u001b[0m\u001b[1;33m[\u001b[0m\u001b[0mkey\u001b[0m\u001b[1;33m]\u001b[0m\u001b[1;33m,\u001b[0m \u001b[0mmethod\u001b[0m\u001b[1;33m=\u001b[0m\u001b[0mmethod\u001b[0m\u001b[1;33m,\u001b[0m \u001b[0mtolerance\u001b[0m\u001b[1;33m=\u001b[0m\u001b[0mtolerance\u001b[0m\u001b[1;33m)\u001b[0m\u001b[1;33m\u001b[0m\u001b[1;33m\u001b[0m\u001b[0m\n\u001b[0;32m   2661\u001b[0m         \u001b[1;32mif\u001b[0m \u001b[0mindexer\u001b[0m\u001b[1;33m.\u001b[0m\u001b[0mndim\u001b[0m \u001b[1;33m>\u001b[0m \u001b[1;36m1\u001b[0m \u001b[1;32mor\u001b[0m \u001b[0mindexer\u001b[0m\u001b[1;33m.\u001b[0m\u001b[0msize\u001b[0m \u001b[1;33m>\u001b[0m \u001b[1;36m1\u001b[0m\u001b[1;33m:\u001b[0m\u001b[1;33m\u001b[0m\u001b[1;33m\u001b[0m\u001b[0m\n",
      "\u001b[1;32mpandas/_libs/index.pyx\u001b[0m in \u001b[0;36mpandas._libs.index.IndexEngine.get_loc\u001b[1;34m()\u001b[0m\n",
      "\u001b[1;32mpandas/_libs/index.pyx\u001b[0m in \u001b[0;36mpandas._libs.index.IndexEngine.get_loc\u001b[1;34m()\u001b[0m\n",
      "\u001b[1;32mpandas/_libs/hashtable_class_helper.pxi\u001b[0m in \u001b[0;36mpandas._libs.hashtable.PyObjectHashTable.get_item\u001b[1;34m()\u001b[0m\n",
      "\u001b[1;32mpandas/_libs/hashtable_class_helper.pxi\u001b[0m in \u001b[0;36mpandas._libs.hashtable.PyObjectHashTable.get_item\u001b[1;34m()\u001b[0m\n",
      "\u001b[1;31mKeyError\u001b[0m: 'groups'"
     ]
    },
    {
     "data": {
      "image/png": "[encoded data removed]",
      "text/plain": [
       "<Figure size 432x288 with 1 Axes>"
      ]
     },
     "metadata": {},
     "output_type": "display_data"
    }
   ],
   "source": [
    "\n"
   ]
  },
  {
   "cell_type": "code",
   "execution_count": null,
   "metadata": {},
   "outputs": [],
   "source": [
    "df['col1','col2','col3','col4'].groupby(['col1','col2']).mean()"
   ]
  },
  {
   "cell_type": "code",
   "execution_count": 72,
   "metadata": {},
   "outputs": [
    {
     "data": {
      "text/html": [
       "<div>\n",
       "<style scoped>\n",
       "    .dataframe tbody tr th:only-of-type {\n",
       "        vertical-align: middle;\n",
       "    }\n",
       "\n",
       "    .dataframe tbody tr th {\n",
       "        vertical-align: top;\n",
       "    }\n",
       "\n",
       "    .dataframe thead th {\n",
       "        text-align: right;\n",
       "    }\n",
       "</style>\n",
       "<table border=\"1\" class=\"dataframe\">\n",
       "  <thead>\n",
       "    <tr style=\"text-align: right;\">\n",
       "      <th></th>\n",
       "      <th>groups</th>\n",
       "      <th>tests</th>\n",
       "      <th>m</th>\n",
       "      <th>ones</th>\n",
       "    </tr>\n",
       "  </thead>\n",
       "  <tbody>\n",
       "    <tr>\n",
       "      <th>13</th>\n",
       "      <td>KT</td>\n",
       "      <td>Mi</td>\n",
       "      <td>th</td>\n",
       "      <td>1</td>\n",
       "    </tr>\n",
       "    <tr>\n",
       "      <th>4</th>\n",
       "      <td>KT</td>\n",
       "      <td>Po1</td>\n",
       "      <td>ta</td>\n",
       "      <td>1</td>\n",
       "    </tr>\n",
       "    <tr>\n",
       "      <th>7</th>\n",
       "      <td>KT</td>\n",
       "      <td>Po1</td>\n",
       "      <td>ab</td>\n",
       "      <td>1</td>\n",
       "    </tr>\n",
       "    <tr>\n",
       "      <th>11</th>\n",
       "      <td>KT</td>\n",
       "      <td>Po1</td>\n",
       "      <td>th</td>\n",
       "      <td>1</td>\n",
       "    </tr>\n",
       "    <tr>\n",
       "      <th>0</th>\n",
       "      <td>KT</td>\n",
       "      <td>Po2</td>\n",
       "      <td>th</td>\n",
       "      <td>1</td>\n",
       "    </tr>\n",
       "    <tr>\n",
       "      <th>9</th>\n",
       "      <td>KT</td>\n",
       "      <td>Po2</td>\n",
       "      <td>th</td>\n",
       "      <td>1</td>\n",
       "    </tr>\n",
       "    <tr>\n",
       "      <th>3</th>\n",
       "      <td>KT</td>\n",
       "      <td>Pr</td>\n",
       "      <td>th</td>\n",
       "      <td>1</td>\n",
       "    </tr>\n",
       "    <tr>\n",
       "      <th>6</th>\n",
       "      <td>KT</td>\n",
       "      <td>Pr</td>\n",
       "      <td>ab</td>\n",
       "      <td>1</td>\n",
       "    </tr>\n",
       "    <tr>\n",
       "      <th>14</th>\n",
       "      <td>KT</td>\n",
       "      <td>Pr</td>\n",
       "      <td>th</td>\n",
       "      <td>1</td>\n",
       "    </tr>\n",
       "    <tr>\n",
       "      <th>2</th>\n",
       "      <td>NN_KT</td>\n",
       "      <td>Mi</td>\n",
       "      <td>ta</td>\n",
       "      <td>1</td>\n",
       "    </tr>\n",
       "    <tr>\n",
       "      <th>5</th>\n",
       "      <td>NN_KT</td>\n",
       "      <td>Mi</td>\n",
       "      <td>ta</td>\n",
       "      <td>1</td>\n",
       "    </tr>\n",
       "    <tr>\n",
       "      <th>8</th>\n",
       "      <td>NN_KT</td>\n",
       "      <td>Mi</td>\n",
       "      <td>th</td>\n",
       "      <td>1</td>\n",
       "    </tr>\n",
       "    <tr>\n",
       "      <th>10</th>\n",
       "      <td>NN_KT</td>\n",
       "      <td>Mi</td>\n",
       "      <td>ab</td>\n",
       "      <td>1</td>\n",
       "    </tr>\n",
       "    <tr>\n",
       "      <th>12</th>\n",
       "      <td>NN_KT</td>\n",
       "      <td>Po1</td>\n",
       "      <td>th</td>\n",
       "      <td>1</td>\n",
       "    </tr>\n",
       "    <tr>\n",
       "      <th>1</th>\n",
       "      <td>NN_KT</td>\n",
       "      <td>Pr</td>\n",
       "      <td>ta</td>\n",
       "      <td>1</td>\n",
       "    </tr>\n",
       "  </tbody>\n",
       "</table>\n",
       "</div>"
      ],
      "text/plain": [
       "   groups tests   m  ones\n",
       "13     KT    Mi  th     1\n",
       "4      KT   Po1  ta     1\n",
       "7      KT   Po1  ab     1\n",
       "11     KT   Po1  th     1\n",
       "0      KT   Po2  th     1\n",
       "9      KT   Po2  th     1\n",
       "3      KT    Pr  th     1\n",
       "6      KT    Pr  ab     1\n",
       "14     KT    Pr  th     1\n",
       "2   NN_KT    Mi  ta     1\n",
       "5   NN_KT    Mi  ta     1\n",
       "8   NN_KT    Mi  th     1\n",
       "10  NN_KT    Mi  ab     1\n",
       "12  NN_KT   Po1  th     1\n",
       "1   NN_KT    Pr  ta     1"
      ]
     },
     "execution_count": 72,
     "metadata": {},
     "output_type": "execute_result"
    }
   ],
   "source": [
    "n=15\n",
    "e = {}\n",
    "e['groups'] = [random.choice(['KT', 'NN_KT']) for i in range(n)]\n",
    "e['tests'] = [random.choice(tests) for i in range(n)]\n",
    "e['m'] = [random.choice(['th', 'ab', 'ta']) for i in range(n)]\n",
    "\n",
    "dd = pd.DataFrame(e)\n",
    "dd['ones'] = [1 for i in range(dd.shape[0])]\n",
    "# print(dd)\n",
    "dd.sort_values(['groups', 'tests'], ascending=True, inplace=True)\n",
    "dd"
   ]
  },
  {
   "cell_type": "code",
   "execution_count": 78,
   "metadata": {},
   "outputs": [
    {
     "data": {
      "text/plain": [
       "3"
      ]
     },
     "execution_count": 78,
     "metadata": {},
     "output_type": "execute_result"
    }
   ],
   "source": [
    "dd[(dd['groups'] == 'KT') & (dd['tests'] == 'Pr')].shape[0]"
   ]
  },
  {
   "cell_type": "code",
   "execution_count": 73,
   "metadata": {},
   "outputs": [
    {
     "data": {
      "text/html": [
       "<div>\n",
       "<style scoped>\n",
       "    .dataframe tbody tr th:only-of-type {\n",
       "        vertical-align: middle;\n",
       "    }\n",
       "\n",
       "    .dataframe tbody tr th {\n",
       "        vertical-align: top;\n",
       "    }\n",
       "\n",
       "    .dataframe thead th {\n",
       "        text-align: right;\n",
       "    }\n",
       "</style>\n",
       "<table border=\"1\" class=\"dataframe\">\n",
       "  <thead>\n",
       "    <tr style=\"text-align: right;\">\n",
       "      <th></th>\n",
       "      <th></th>\n",
       "      <th></th>\n",
       "      <th>ones</th>\n",
       "    </tr>\n",
       "    <tr>\n",
       "      <th>groups</th>\n",
       "      <th>tests</th>\n",
       "      <th>m</th>\n",
       "      <th></th>\n",
       "    </tr>\n",
       "  </thead>\n",
       "  <tbody>\n",
       "    <tr>\n",
       "      <th rowspan=\"7\" valign=\"top\">KT</th>\n",
       "      <th>Mi</th>\n",
       "      <th>th</th>\n",
       "      <td>1</td>\n",
       "    </tr>\n",
       "    <tr>\n",
       "      <th rowspan=\"3\" valign=\"top\">Po1</th>\n",
       "      <th>ab</th>\n",
       "      <td>1</td>\n",
       "    </tr>\n",
       "    <tr>\n",
       "      <th>ta</th>\n",
       "      <td>1</td>\n",
       "    </tr>\n",
       "    <tr>\n",
       "      <th>th</th>\n",
       "      <td>1</td>\n",
       "    </tr>\n",
       "    <tr>\n",
       "      <th>Po2</th>\n",
       "      <th>th</th>\n",
       "      <td>2</td>\n",
       "    </tr>\n",
       "    <tr>\n",
       "      <th rowspan=\"2\" valign=\"top\">Pr</th>\n",
       "      <th>ab</th>\n",
       "      <td>1</td>\n",
       "    </tr>\n",
       "    <tr>\n",
       "      <th>th</th>\n",
       "      <td>2</td>\n",
       "    </tr>\n",
       "    <tr>\n",
       "      <th rowspan=\"5\" valign=\"top\">NN_KT</th>\n",
       "      <th rowspan=\"3\" valign=\"top\">Mi</th>\n",
       "      <th>ab</th>\n",
       "      <td>1</td>\n",
       "    </tr>\n",
       "    <tr>\n",
       "      <th>ta</th>\n",
       "      <td>2</td>\n",
       "    </tr>\n",
       "    <tr>\n",
       "      <th>th</th>\n",
       "      <td>1</td>\n",
       "    </tr>\n",
       "    <tr>\n",
       "      <th>Po1</th>\n",
       "      <th>th</th>\n",
       "      <td>1</td>\n",
       "    </tr>\n",
       "    <tr>\n",
       "      <th>Pr</th>\n",
       "      <th>ta</th>\n",
       "      <td>1</td>\n",
       "    </tr>\n",
       "  </tbody>\n",
       "</table>\n",
       "</div>"
      ],
      "text/plain": [
       "                 ones\n",
       "groups tests m       \n",
       "KT     Mi    th     1\n",
       "       Po1   ab     1\n",
       "             ta     1\n",
       "             th     1\n",
       "       Po2   th     2\n",
       "       Pr    ab     1\n",
       "             th     2\n",
       "NN_KT  Mi    ab     1\n",
       "             ta     2\n",
       "             th     1\n",
       "       Po1   th     1\n",
       "       Pr    ta     1"
      ]
     },
     "execution_count": 73,
     "metadata": {},
     "output_type": "execute_result"
    }
   ],
   "source": [
    "dd.groupby(['groups', 'tests', 'm']).count()"
   ]
  },
  {
   "cell_type": "code",
   "execution_count": 27,
   "metadata": {},
   "outputs": [
    {
     "data": {
      "text/plain": [
       "2"
      ]
     },
     "execution_count": 27,
     "metadata": {},
     "output_type": "execute_result"
    }
   ],
   "source": [
    "import random\n",
    "random.choice([1, 2])"
   ]
  },
  {
   "cell_type": "code",
   "execution_count": null,
   "metadata": {},
   "outputs": [],
   "source": []
  }
 ],
 "metadata": {
  "kernelspec": {
   "display_name": "Python 3",
   "language": "python",
   "name": "python3"
  },
  "language_info": {
   "codemirror_mode": {
    "name": "ipython",
    "version": 3
   },
   "file_extension": ".py",
   "mimetype": "text/x-python",
   "name": "python",
   "nbconvert_exporter": "python",
   "pygments_lexer": "ipython3",
   "version": "3.7.3"
  }
 },
 "nbformat": 4,
 "nbformat_minor": 2
}
